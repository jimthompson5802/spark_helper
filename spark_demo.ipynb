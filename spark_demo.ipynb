{
 "cells": [
  {
   "cell_type": "code",
   "execution_count": 1,
   "id": "cb90c521-79d8-45ee-be2d-e72a9086b67c",
   "metadata": {},
   "outputs": [],
   "source": [
    "from spark_helper.core import create_spark_session\n"
   ]
  },
  {
   "cell_type": "code",
   "execution_count": 2,
   "id": "56456ba4-d66b-41bb-b6d5-baac51cdc0f6",
   "metadata": {},
   "outputs": [],
   "source": [
    "spark = create_spark_session(\"sample_cluster_config.yaml\")"
   ]
  },
  {
   "cell_type": "code",
   "execution_count": 3,
   "id": "001b35b2-a0fc-44bd-8c7b-f79a8922b8c1",
   "metadata": {},
   "outputs": [
    {
     "data": {
      "text/plain": [
       "[0, 1, 4, 9, 16, 25, 36, 49, 64, 81]"
      ]
     },
     "execution_count": 3,
     "metadata": {},
     "output_type": "execute_result"
    }
   ],
   "source": [
    "rdd = spark.sparkContext.parallelize(range(10))\n",
    "\n",
    "rdd.map(lambda x: x*x).collect()"
   ]
  },
  {
   "cell_type": "code",
   "execution_count": 4,
   "id": "e411f803-4b16-4b81-9553-91c1fb2833ec",
   "metadata": {},
   "outputs": [],
   "source": [
    "spark.stop()"
   ]
  },
  {
   "cell_type": "code",
   "execution_count": null,
   "id": "7803680a-6bf0-4158-9bdc-1a27c0cc26b2",
   "metadata": {},
   "outputs": [],
   "source": []
  }
 ],
 "metadata": {
  "kernelspec": {
   "display_name": "venv",
   "language": "python",
   "name": "python3"
  },
  "language_info": {
   "codemirror_mode": {
    "name": "ipython",
    "version": 3
   },
   "file_extension": ".py",
   "mimetype": "text/x-python",
   "name": "python",
   "nbconvert_exporter": "python",
   "pygments_lexer": "ipython3",
   "version": "3.11.12"
  }
 },
 "nbformat": 4,
 "nbformat_minor": 5
}
